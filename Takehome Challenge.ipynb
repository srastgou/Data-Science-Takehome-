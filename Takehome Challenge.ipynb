{
 "cells": [
  {
   "cell_type": "markdown",
   "metadata": {},
   "source": [
    "### Question:\n",
    "\n",
    "The training data is pulled from raw logs. It has three columns that record user activity over time:\n",
    "user_id: A hash that uniquely identifies the user.\n",
    "activity_date: The date of the activity\n",
    "activity_type: The type of activity\n",
    "\n",
    "6sense would like to predict which users will purchase given the user's activities. \n",
    "\n",
    "Using the training data, build a model that predicts which user_id's will make a purchase in the future. Use the model to score the test data from most likely to least likely to purchase.\n",
    "\n",
    "Please submit the following:\n",
    "- (1) Describe which activity types you believe are most useful in predicting which user will purchase in the future.\n",
    "- (2) Provide a file (csv, tsv, or similar) containing the 1000 user_id's most likely to convert.\n",
    "- (3) Any work used to generate the list and/or notes you'd like to include.\n",
    "\n",
    "\n"
   ]
  },
  {
   "cell_type": "markdown",
   "metadata": {},
   "source": [
    "#### Import libraries"
   ]
  },
  {
   "cell_type": "code",
   "execution_count": 1,
   "metadata": {},
   "outputs": [],
   "source": [
    "%matplotlib inline\n",
    "import pandas as pd\n",
    "import numpy as np\n",
    "import matplotlib.pyplot as plt\n",
    "import seaborn as sns\n",
    "import lightgbm as lgb\n",
    "from xgboost.sklearn import XGBClassifier\n",
    "from sklearn.ensemble import GradientBoostingClassifier,RandomForestClassifier\n",
    "from sklearn.metrics import average_precision_score, roc_auc_score,roc_curve,auc, accuracy_score, confusion_matrix, classification_report,log_loss, f1_score, average_precision_score\n",
    "from sklearn.model_selection import train_test_split,GridSearchCV, KFold, cross_val_score, train_test_split,RandomizedSearchCV\n",
    "from sklearn.preprocessing import StandardScaler\n",
    "from tqdm import tqdm\n",
    "from sklearn.linear_model import LogisticRegression\n",
    "import time\n",
    "import traceback"
   ]
  },
  {
   "cell_type": "markdown",
   "metadata": {},
   "source": [
    "#### Import Train Dataset"
   ]
  },
  {
   "cell_type": "code",
   "execution_count": 2,
   "metadata": {},
   "outputs": [
    {
     "data": {
      "text/html": [
       "<div>\n",
       "<style scoped>\n",
       "    .dataframe tbody tr th:only-of-type {\n",
       "        vertical-align: middle;\n",
       "    }\n",
       "\n",
       "    .dataframe tbody tr th {\n",
       "        vertical-align: top;\n",
       "    }\n",
       "\n",
       "    .dataframe thead th {\n",
       "        text-align: right;\n",
       "    }\n",
       "</style>\n",
       "<table border=\"1\" class=\"dataframe\">\n",
       "  <thead>\n",
       "    <tr style=\"text-align: right;\">\n",
       "      <th></th>\n",
       "      <th>user_id</th>\n",
       "      <th>activity_date</th>\n",
       "      <th>activity_type</th>\n",
       "    </tr>\n",
       "  </thead>\n",
       "  <tbody>\n",
       "    <tr>\n",
       "      <th>0</th>\n",
       "      <td>00002acbe042d69</td>\n",
       "      <td>2013-07-11</td>\n",
       "      <td>FormSubmit</td>\n",
       "    </tr>\n",
       "    <tr>\n",
       "      <th>1</th>\n",
       "      <td>00002acbe042d69</td>\n",
       "      <td>2013-07-15</td>\n",
       "      <td>EmailOpen</td>\n",
       "    </tr>\n",
       "    <tr>\n",
       "      <th>2</th>\n",
       "      <td>00002acbe042d69</td>\n",
       "      <td>2013-07-17</td>\n",
       "      <td>EmailOpen</td>\n",
       "    </tr>\n",
       "    <tr>\n",
       "      <th>3</th>\n",
       "      <td>00002acbe042d69</td>\n",
       "      <td>2013-07-18</td>\n",
       "      <td>EmailOpen</td>\n",
       "    </tr>\n",
       "    <tr>\n",
       "      <th>4</th>\n",
       "      <td>00002acbe042d69</td>\n",
       "      <td>2013-07-25</td>\n",
       "      <td>EmailOpen</td>\n",
       "    </tr>\n",
       "  </tbody>\n",
       "</table>\n",
       "</div>"
      ],
      "text/plain": [
       "           user_id activity_date activity_type\n",
       "0  00002acbe042d69    2013-07-11    FormSubmit\n",
       "1  00002acbe042d69    2013-07-15     EmailOpen\n",
       "2  00002acbe042d69    2013-07-17     EmailOpen\n",
       "3  00002acbe042d69    2013-07-18     EmailOpen\n",
       "4  00002acbe042d69    2013-07-25     EmailOpen"
      ]
     },
     "execution_count": 2,
     "metadata": {},
     "output_type": "execute_result"
    }
   ],
   "source": [
    "df=pd.read_csv('training.tsv',sep='\\t',header=0)\n",
    "df.columns=['user_id','activity_date','activity_type']\n",
    "df.head()"
   ]
  },
  {
   "cell_type": "markdown",
   "metadata": {},
   "source": [
    "#### Import Test Dataset"
   ]
  },
  {
   "cell_type": "code",
   "execution_count": 3,
   "metadata": {},
   "outputs": [
    {
     "data": {
      "text/html": [
       "<div>\n",
       "<style scoped>\n",
       "    .dataframe tbody tr th:only-of-type {\n",
       "        vertical-align: middle;\n",
       "    }\n",
       "\n",
       "    .dataframe tbody tr th {\n",
       "        vertical-align: top;\n",
       "    }\n",
       "\n",
       "    .dataframe thead th {\n",
       "        text-align: right;\n",
       "    }\n",
       "</style>\n",
       "<table border=\"1\" class=\"dataframe\">\n",
       "  <thead>\n",
       "    <tr style=\"text-align: right;\">\n",
       "      <th></th>\n",
       "      <th>user_id</th>\n",
       "      <th>activity_date</th>\n",
       "      <th>activity_type</th>\n",
       "    </tr>\n",
       "  </thead>\n",
       "  <tbody>\n",
       "    <tr>\n",
       "      <th>0</th>\n",
       "      <td>0000ecf58c94668</td>\n",
       "      <td>2015-06-11</td>\n",
       "      <td>EmailOpen</td>\n",
       "    </tr>\n",
       "    <tr>\n",
       "      <th>1</th>\n",
       "      <td>0000ecf58c94668</td>\n",
       "      <td>2015-06-29</td>\n",
       "      <td>EmailOpen</td>\n",
       "    </tr>\n",
       "    <tr>\n",
       "      <th>2</th>\n",
       "      <td>0000ecf58c94668</td>\n",
       "      <td>2015-07-05</td>\n",
       "      <td>EmailOpen</td>\n",
       "    </tr>\n",
       "    <tr>\n",
       "      <th>3</th>\n",
       "      <td>0000ecf58c94668</td>\n",
       "      <td>2015-07-29</td>\n",
       "      <td>EmailOpen</td>\n",
       "    </tr>\n",
       "    <tr>\n",
       "      <th>4</th>\n",
       "      <td>000132f21724ee2</td>\n",
       "      <td>2015-05-15</td>\n",
       "      <td>EmailClickthrough</td>\n",
       "    </tr>\n",
       "  </tbody>\n",
       "</table>\n",
       "</div>"
      ],
      "text/plain": [
       "           user_id activity_date      activity_type\n",
       "0  0000ecf58c94668    2015-06-11          EmailOpen\n",
       "1  0000ecf58c94668    2015-06-29          EmailOpen\n",
       "2  0000ecf58c94668    2015-07-05          EmailOpen\n",
       "3  0000ecf58c94668    2015-07-29          EmailOpen\n",
       "4  000132f21724ee2    2015-05-15  EmailClickthrough"
      ]
     },
     "execution_count": 3,
     "metadata": {},
     "output_type": "execute_result"
    }
   ],
   "source": [
    "test=pd.read_csv('test.tsv',sep='\\t')\n",
    "test.columns=['user_id','activity_date','activity_type']\n",
    "test.head()"
   ]
  },
  {
   "cell_type": "code",
   "execution_count": 4,
   "metadata": {},
   "outputs": [
    {
     "name": "stdout",
     "output_type": "stream",
     "text": [
      "<class 'pandas.core.frame.DataFrame'>\n",
      "RangeIndex: 4918676 entries, 0 to 4918675\n",
      "Data columns (total 3 columns):\n",
      "user_id          object\n",
      "activity_date    object\n",
      "activity_type    object\n",
      "dtypes: object(3)\n",
      "memory usage: 112.6+ MB\n"
     ]
    }
   ],
   "source": [
    "df.info() #There is not NaN value"
   ]
  },
  {
   "cell_type": "markdown",
   "metadata": {},
   "source": [
    "### Exploratory Data Analysis\n",
    "\n",
    "For understanding the data better I start with some EDA"
   ]
  },
  {
   "cell_type": "code",
   "execution_count": 5,
   "metadata": {},
   "outputs": [
    {
     "data": {
      "text/plain": [
       "EmailOpen            3191731\n",
       "Purchase              395031\n",
       "WebVisit              384025\n",
       "PageView              382263\n",
       "EmailClickthrough     285568\n",
       "FormSubmit            176067\n",
       "CustomerSupport       103991\n",
       "Name: activity_type, dtype: int64"
      ]
     },
     "execution_count": 5,
     "metadata": {},
     "output_type": "execute_result"
    }
   ],
   "source": [
    "df.activity_type.value_counts()"
   ]
  },
  {
   "cell_type": "code",
   "execution_count": 6,
   "metadata": {},
   "outputs": [
    {
     "data": {
      "image/png": "[encoded data removed]",
      "text/plain": [
       "<Figure size 432x288 with 1 Axes>"
      ]
     },
     "metadata": {},
     "output_type": "display_data"
    }
   ],
   "source": [
    "sns.countplot(x=\"activity_type\", data=df,palette='rainbow')\n",
    "plt.xticks(rotation=60)\n",
    "plt.show()"
   ]
  },
  {
   "cell_type": "code",
   "execution_count": 7,
   "metadata": {},
   "outputs": [
    {
     "data": {
      "image/png": "[encoded data removed]",
      "text/plain": [
       "<Figure size 432x288 with 1 Axes>"
      ]
     },
     "metadata": {},
     "output_type": "display_data"
    },
    {
     "data": {
      "image/png": "[encoded data removed]",
      "text/plain": [
       "<Figure size 432x288 with 1 Axes>"
      ]
     },
     "metadata": {},
     "output_type": "display_data"
    },
    {
     "data": {
      "image/png": "[encoded data removed]",
      "text/plain": [
       "<Figure size 576x360 with 1 Axes>"
      ]
     },
     "metadata": {},
     "output_type": "display_data"
    }
   ],
   "source": [
    "df['activity_date']=pd.to_datetime(df['activity_date'])\n",
    "\n",
    "sns.countplot(df['activity_date'].dt.year,palette='rainbow')\n",
    "plt.xlabel('Year')\n",
    "plt.show()\n",
    "sns.countplot(df['activity_date'].dt.month,palette='rainbow')\n",
    "plt.xlabel('Month')\n",
    "plt.show()\n",
    "plt.figure(figsize=(8,5))\n",
    "sns.countplot(df['activity_date'].dt.day,palette='rainbow')\n",
    "plt.xlabel('Day')\n",
    "plt.show()"
   ]
  },
  {
   "cell_type": "markdown",
   "metadata": {},
   "source": [
    "#### Create a data frame where each user_id has its total activity base on the type"
   ]
  },
  {
   "cell_type": "code",
   "execution_count": 8,
   "metadata": {},
   "outputs": [
    {
     "data": {
      "text/html": [
       "<div>\n",
       "<style scoped>\n",
       "    .dataframe tbody tr th:only-of-type {\n",
       "        vertical-align: middle;\n",
       "    }\n",
       "\n",
       "    .dataframe tbody tr th {\n",
       "        vertical-align: top;\n",
       "    }\n",
       "\n",
       "    .dataframe thead th {\n",
       "        text-align: right;\n",
       "    }\n",
       "</style>\n",
       "<table border=\"1\" class=\"dataframe\">\n",
       "  <thead>\n",
       "    <tr style=\"text-align: right;\">\n",
       "      <th>activity_type</th>\n",
       "      <th>CustomerSupport</th>\n",
       "      <th>EmailClickthrough</th>\n",
       "      <th>EmailOpen</th>\n",
       "      <th>FormSubmit</th>\n",
       "      <th>PageView</th>\n",
       "      <th>Purchase</th>\n",
       "      <th>WebVisit</th>\n",
       "    </tr>\n",
       "    <tr>\n",
       "      <th>user_id</th>\n",
       "      <th></th>\n",
       "      <th></th>\n",
       "      <th></th>\n",
       "      <th></th>\n",
       "      <th></th>\n",
       "      <th></th>\n",
       "      <th></th>\n",
       "    </tr>\n",
       "  </thead>\n",
       "  <tbody>\n",
       "    <tr>\n",
       "      <th>00002acbe042d69</th>\n",
       "      <td>0</td>\n",
       "      <td>0</td>\n",
       "      <td>8</td>\n",
       "      <td>1</td>\n",
       "      <td>0</td>\n",
       "      <td>0</td>\n",
       "      <td>0</td>\n",
       "    </tr>\n",
       "    <tr>\n",
       "      <th>0000a3a34bd07e6</th>\n",
       "      <td>0</td>\n",
       "      <td>0</td>\n",
       "      <td>20</td>\n",
       "      <td>0</td>\n",
       "      <td>0</td>\n",
       "      <td>0</td>\n",
       "      <td>0</td>\n",
       "    </tr>\n",
       "    <tr>\n",
       "      <th>0000ecf58c94668</th>\n",
       "      <td>1</td>\n",
       "      <td>1</td>\n",
       "      <td>11</td>\n",
       "      <td>1</td>\n",
       "      <td>0</td>\n",
       "      <td>6</td>\n",
       "      <td>0</td>\n",
       "    </tr>\n",
       "    <tr>\n",
       "      <th>00012205dd4613b</th>\n",
       "      <td>0</td>\n",
       "      <td>0</td>\n",
       "      <td>2</td>\n",
       "      <td>0</td>\n",
       "      <td>0</td>\n",
       "      <td>0</td>\n",
       "      <td>0</td>\n",
       "    </tr>\n",
       "    <tr>\n",
       "      <th>000198d39a568cf</th>\n",
       "      <td>1</td>\n",
       "      <td>0</td>\n",
       "      <td>0</td>\n",
       "      <td>0</td>\n",
       "      <td>0</td>\n",
       "      <td>1</td>\n",
       "      <td>0</td>\n",
       "    </tr>\n",
       "  </tbody>\n",
       "</table>\n",
       "</div>"
      ],
      "text/plain": [
       "activity_type    CustomerSupport  EmailClickthrough  EmailOpen  FormSubmit  \\\n",
       "user_id                                                                      \n",
       "00002acbe042d69                0                  0          8           1   \n",
       "0000a3a34bd07e6                0                  0         20           0   \n",
       "0000ecf58c94668                1                  1         11           1   \n",
       "00012205dd4613b                0                  0          2           0   \n",
       "000198d39a568cf                1                  0          0           0   \n",
       "\n",
       "activity_type    PageView  Purchase  WebVisit  \n",
       "user_id                                        \n",
       "00002acbe042d69         0         0         0  \n",
       "0000a3a34bd07e6         0         0         0  \n",
       "0000ecf58c94668         0         6         0  \n",
       "00012205dd4613b         0         0         0  \n",
       "000198d39a568cf         0         1         0  "
      ]
     },
     "execution_count": 8,
     "metadata": {},
     "output_type": "execute_result"
    }
   ],
   "source": [
    "df1=pd.pivot_table(df.groupby(by=['user_id','activity_type']).count(),index='user_id',columns='activity_type',values='activity_date',fill_value=0)\n",
    "df1.head()"
   ]
  },
  {
   "cell_type": "markdown",
   "metadata": {},
   "source": [
    "#### Create a new column to show if the user_id had a purchase or not"
   ]
  },
  {
   "cell_type": "code",
   "execution_count": 9,
   "metadata": {},
   "outputs": [
    {
     "data": {
      "text/html": [
       "<div>\n",
       "<style scoped>\n",
       "    .dataframe tbody tr th:only-of-type {\n",
       "        vertical-align: middle;\n",
       "    }\n",
       "\n",
       "    .dataframe tbody tr th {\n",
       "        vertical-align: top;\n",
       "    }\n",
       "\n",
       "    .dataframe thead th {\n",
       "        text-align: right;\n",
       "    }\n",
       "</style>\n",
       "<table border=\"1\" class=\"dataframe\">\n",
       "  <thead>\n",
       "    <tr style=\"text-align: right;\">\n",
       "      <th>activity_type</th>\n",
       "      <th>CustomerSupport</th>\n",
       "      <th>EmailClickthrough</th>\n",
       "      <th>EmailOpen</th>\n",
       "      <th>FormSubmit</th>\n",
       "      <th>PageView</th>\n",
       "      <th>Purchase</th>\n",
       "      <th>WebVisit</th>\n",
       "      <th>HadPurchase</th>\n",
       "    </tr>\n",
       "    <tr>\n",
       "      <th>user_id</th>\n",
       "      <th></th>\n",
       "      <th></th>\n",
       "      <th></th>\n",
       "      <th></th>\n",
       "      <th></th>\n",
       "      <th></th>\n",
       "      <th></th>\n",
       "      <th></th>\n",
       "    </tr>\n",
       "  </thead>\n",
       "  <tbody>\n",
       "    <tr>\n",
       "      <th>00002acbe042d69</th>\n",
       "      <td>0</td>\n",
       "      <td>0</td>\n",
       "      <td>8</td>\n",
       "      <td>1</td>\n",
       "      <td>0</td>\n",
       "      <td>0</td>\n",
       "      <td>0</td>\n",
       "      <td>0</td>\n",
       "    </tr>\n",
       "    <tr>\n",
       "      <th>0000a3a34bd07e6</th>\n",
       "      <td>0</td>\n",
       "      <td>0</td>\n",
       "      <td>20</td>\n",
       "      <td>0</td>\n",
       "      <td>0</td>\n",
       "      <td>0</td>\n",
       "      <td>0</td>\n",
       "      <td>0</td>\n",
       "    </tr>\n",
       "    <tr>\n",
       "      <th>0000ecf58c94668</th>\n",
       "      <td>1</td>\n",
       "      <td>1</td>\n",
       "      <td>11</td>\n",
       "      <td>1</td>\n",
       "      <td>0</td>\n",
       "      <td>6</td>\n",
       "      <td>0</td>\n",
       "      <td>1</td>\n",
       "    </tr>\n",
       "    <tr>\n",
       "      <th>00012205dd4613b</th>\n",
       "      <td>0</td>\n",
       "      <td>0</td>\n",
       "      <td>2</td>\n",
       "      <td>0</td>\n",
       "      <td>0</td>\n",
       "      <td>0</td>\n",
       "      <td>0</td>\n",
       "      <td>0</td>\n",
       "    </tr>\n",
       "    <tr>\n",
       "      <th>000198d39a568cf</th>\n",
       "      <td>1</td>\n",
       "      <td>0</td>\n",
       "      <td>0</td>\n",
       "      <td>0</td>\n",
       "      <td>0</td>\n",
       "      <td>1</td>\n",
       "      <td>0</td>\n",
       "      <td>1</td>\n",
       "    </tr>\n",
       "  </tbody>\n",
       "</table>\n",
       "</div>"
      ],
      "text/plain": [
       "activity_type    CustomerSupport  EmailClickthrough  EmailOpen  FormSubmit  \\\n",
       "user_id                                                                      \n",
       "00002acbe042d69                0                  0          8           1   \n",
       "0000a3a34bd07e6                0                  0         20           0   \n",
       "0000ecf58c94668                1                  1         11           1   \n",
       "00012205dd4613b                0                  0          2           0   \n",
       "000198d39a568cf                1                  0          0           0   \n",
       "\n",
       "activity_type    PageView  Purchase  WebVisit  HadPurchase  \n",
       "user_id                                                     \n",
       "00002acbe042d69         0         0         0            0  \n",
       "0000a3a34bd07e6         0         0         0            0  \n",
       "0000ecf58c94668         0         6         0            1  \n",
       "00012205dd4613b         0         0         0            0  \n",
       "000198d39a568cf         0         1         0            1  "
      ]
     },
     "execution_count": 9,
     "metadata": {},
     "output_type": "execute_result"
    }
   ],
   "source": [
    "df1['HadPurchase']=[*map(lambda x:x*1, df1['Purchase']>0)]\n",
    "df1.head()"
   ]
  },
  {
   "cell_type": "markdown",
   "metadata": {},
   "source": [
    "#### Check correlation among columns"
   ]
  },
  {
   "cell_type": "code",
   "execution_count": 10,
   "metadata": {},
   "outputs": [
    {
     "data": {
      "text/html": [
       "<div>\n",
       "<style scoped>\n",
       "    .dataframe tbody tr th:only-of-type {\n",
       "        vertical-align: middle;\n",
       "    }\n",
       "\n",
       "    .dataframe tbody tr th {\n",
       "        vertical-align: top;\n",
       "    }\n",
       "\n",
       "    .dataframe thead th {\n",
       "        text-align: right;\n",
       "    }\n",
       "</style>\n",
       "<table border=\"1\" class=\"dataframe\">\n",
       "  <thead>\n",
       "    <tr style=\"text-align: right;\">\n",
       "      <th>activity_type</th>\n",
       "      <th>CustomerSupport</th>\n",
       "      <th>EmailClickthrough</th>\n",
       "      <th>EmailOpen</th>\n",
       "      <th>FormSubmit</th>\n",
       "      <th>PageView</th>\n",
       "      <th>Purchase</th>\n",
       "      <th>WebVisit</th>\n",
       "      <th>HadPurchase</th>\n",
       "    </tr>\n",
       "    <tr>\n",
       "      <th>activity_type</th>\n",
       "      <th></th>\n",
       "      <th></th>\n",
       "      <th></th>\n",
       "      <th></th>\n",
       "      <th></th>\n",
       "      <th></th>\n",
       "      <th></th>\n",
       "      <th></th>\n",
       "    </tr>\n",
       "  </thead>\n",
       "  <tbody>\n",
       "    <tr>\n",
       "      <th>CustomerSupport</th>\n",
       "      <td>1.000000</td>\n",
       "      <td>0.069687</td>\n",
       "      <td>0.069879</td>\n",
       "      <td>0.059705</td>\n",
       "      <td>0.088687</td>\n",
       "      <td>0.353339</td>\n",
       "      <td>0.088519</td>\n",
       "      <td>1.000000</td>\n",
       "    </tr>\n",
       "    <tr>\n",
       "      <th>EmailClickthrough</th>\n",
       "      <td>0.069687</td>\n",
       "      <td>1.000000</td>\n",
       "      <td>0.674694</td>\n",
       "      <td>0.783081</td>\n",
       "      <td>0.595017</td>\n",
       "      <td>0.369027</td>\n",
       "      <td>0.595523</td>\n",
       "      <td>0.069687</td>\n",
       "    </tr>\n",
       "    <tr>\n",
       "      <th>EmailOpen</th>\n",
       "      <td>0.069879</td>\n",
       "      <td>0.674694</td>\n",
       "      <td>1.000000</td>\n",
       "      <td>0.591831</td>\n",
       "      <td>0.503523</td>\n",
       "      <td>0.402415</td>\n",
       "      <td>0.503988</td>\n",
       "      <td>0.069879</td>\n",
       "    </tr>\n",
       "    <tr>\n",
       "      <th>FormSubmit</th>\n",
       "      <td>0.059705</td>\n",
       "      <td>0.783081</td>\n",
       "      <td>0.591831</td>\n",
       "      <td>1.000000</td>\n",
       "      <td>0.557026</td>\n",
       "      <td>0.379792</td>\n",
       "      <td>0.559712</td>\n",
       "      <td>0.059705</td>\n",
       "    </tr>\n",
       "    <tr>\n",
       "      <th>PageView</th>\n",
       "      <td>0.088687</td>\n",
       "      <td>0.595017</td>\n",
       "      <td>0.503523</td>\n",
       "      <td>0.557026</td>\n",
       "      <td>1.000000</td>\n",
       "      <td>0.309214</td>\n",
       "      <td>0.999877</td>\n",
       "      <td>0.088687</td>\n",
       "    </tr>\n",
       "    <tr>\n",
       "      <th>Purchase</th>\n",
       "      <td>0.353339</td>\n",
       "      <td>0.369027</td>\n",
       "      <td>0.402415</td>\n",
       "      <td>0.379792</td>\n",
       "      <td>0.309214</td>\n",
       "      <td>1.000000</td>\n",
       "      <td>0.309547</td>\n",
       "      <td>0.353339</td>\n",
       "    </tr>\n",
       "    <tr>\n",
       "      <th>WebVisit</th>\n",
       "      <td>0.088519</td>\n",
       "      <td>0.595523</td>\n",
       "      <td>0.503988</td>\n",
       "      <td>0.559712</td>\n",
       "      <td>0.999877</td>\n",
       "      <td>0.309547</td>\n",
       "      <td>1.000000</td>\n",
       "      <td>0.088519</td>\n",
       "    </tr>\n",
       "    <tr>\n",
       "      <th>HadPurchase</th>\n",
       "      <td>1.000000</td>\n",
       "      <td>0.069687</td>\n",
       "      <td>0.069879</td>\n",
       "      <td>0.059705</td>\n",
       "      <td>0.088687</td>\n",
       "      <td>0.353339</td>\n",
       "      <td>0.088519</td>\n",
       "      <td>1.000000</td>\n",
       "    </tr>\n",
       "  </tbody>\n",
       "</table>\n",
       "</div>"
      ],
      "text/plain": [
       "activity_type      CustomerSupport  EmailClickthrough  EmailOpen  FormSubmit  \\\n",
       "activity_type                                                                  \n",
       "CustomerSupport           1.000000           0.069687   0.069879    0.059705   \n",
       "EmailClickthrough         0.069687           1.000000   0.674694    0.783081   \n",
       "EmailOpen                 0.069879           0.674694   1.000000    0.591831   \n",
       "FormSubmit                0.059705           0.783081   0.591831    1.000000   \n",
       "PageView                  0.088687           0.595017   0.503523    0.557026   \n",
       "Purchase                  0.353339           0.369027   0.402415    0.379792   \n",
       "WebVisit                  0.088519           0.595523   0.503988    0.559712   \n",
       "HadPurchase               1.000000           0.069687   0.069879    0.059705   \n",
       "\n",
       "activity_type      PageView  Purchase  WebVisit  HadPurchase  \n",
       "activity_type                                                 \n",
       "CustomerSupport    0.088687  0.353339  0.088519     1.000000  \n",
       "EmailClickthrough  0.595017  0.369027  0.595523     0.069687  \n",
       "EmailOpen          0.503523  0.402415  0.503988     0.069879  \n",
       "FormSubmit         0.557026  0.379792  0.559712     0.059705  \n",
       "PageView           1.000000  0.309214  0.999877     0.088687  \n",
       "Purchase           0.309214  1.000000  0.309547     0.353339  \n",
       "WebVisit           0.999877  0.309547  1.000000     0.088519  \n",
       "HadPurchase        0.088687  0.353339  0.088519     1.000000  "
      ]
     },
     "execution_count": 10,
     "metadata": {},
     "output_type": "execute_result"
    }
   ],
   "source": [
    "df1.corr()"
   ]
  },
  {
   "cell_type": "code",
   "execution_count": 11,
   "metadata": {},
   "outputs": [
    {
     "data": {
      "image/png": "[encoded data removed]",
      "text/plain": [
       "<Figure size 432x288 with 2 Axes>"
      ]
     },
     "metadata": {},
     "output_type": "display_data"
    }
   ],
   "source": [
    "sns.heatmap(df1.corr(),cmap=\"YlGnBu\")\n",
    "plt.show()"
   ]
  },
  {
   "cell_type": "markdown",
   "metadata": {},
   "source": [
    "#### 'CustomerSupport' and 'HadPurchase' are same. So this column has to remove for future predition.\n",
    "So it means customer support is for user_ids who had at least one purchase.\n",
    "#### 'WebVisit' and 'PageView' have very hight correlation. I remove 'WebVisit' from the the dataset."
   ]
  },
  {
   "cell_type": "code",
   "execution_count": 12,
   "metadata": {},
   "outputs": [],
   "source": [
    "del df1['CustomerSupport']\n",
    "del df1['WebVisit']"
   ]
  },
  {
   "cell_type": "markdown",
   "metadata": {},
   "source": [
    "### Solve the Classification problem\n",
    "So the 'HadPurchase' columns is the target value."
   ]
  },
  {
   "cell_type": "code",
   "execution_count": 13,
   "metadata": {},
   "outputs": [
    {
     "data": {
      "image/png": "[encoded data removed]",
      "text/plain": [
       "<Figure size 432x288 with 1 Axes>"
      ]
     },
     "metadata": {},
     "output_type": "display_data"
    }
   ],
   "source": [
    "sns.countplot(df1['HadPurchase'],palette='rainbow')\n",
    "plt.show()"
   ]
  },
  {
   "cell_type": "code",
   "execution_count": 14,
   "metadata": {},
   "outputs": [
    {
     "data": {
      "text/plain": [
       "0    237577\n",
       "1    103991\n",
       "Name: HadPurchase, dtype: int64"
      ]
     },
     "execution_count": 14,
     "metadata": {},
     "output_type": "execute_result"
    }
   ],
   "source": [
    "df1['HadPurchase'].value_counts()"
   ]
  },
  {
   "cell_type": "code",
   "execution_count": 15,
   "metadata": {},
   "outputs": [
    {
     "data": {
      "text/plain": [
       "30.445182218474798"
      ]
     },
     "execution_count": 15,
     "metadata": {},
     "output_type": "execute_result"
    }
   ],
   "source": [
    "len(df1[df1['HadPurchase']==1])/len(df1)*100"
   ]
  },
  {
   "cell_type": "markdown",
   "metadata": {},
   "source": [
    "#### More than 30% of the user_ids had at least one purchase."
   ]
  },
  {
   "cell_type": "markdown",
   "metadata": {},
   "source": [
    "#### Define train/test split for picking the best classifier"
   ]
  },
  {
   "cell_type": "code",
   "execution_count": 16,
   "metadata": {},
   "outputs": [],
   "source": [
    "X = df1[['EmailClickthrough','EmailOpen','FormSubmit','PageView']]\n",
    "y = df1['HadPurchase']\n",
    "X_train, X_test, y_train, y_test = train_test_split(X,y, test_size=0.2, random_state=0)"
   ]
  },
  {
   "cell_type": "markdown",
   "metadata": {},
   "source": [
    "#### Picked classifiers are:\n",
    "- Logistic Regression\n",
    "- Random Forest\n",
    "- Gradient Boosting\n",
    "- LightGBM"
   ]
  },
  {
   "cell_type": "code",
   "execution_count": 17,
   "metadata": {},
   "outputs": [
    {
     "name": "stderr",
     "output_type": "stream",
     "text": [
      "100%|██████████| 4/4 [00:38<00:00,  8.94s/it]\n"
     ]
    },
    {
     "data": {
      "text/html": [
       "<div>\n",
       "<style scoped>\n",
       "    .dataframe tbody tr th:only-of-type {\n",
       "        vertical-align: middle;\n",
       "    }\n",
       "\n",
       "    .dataframe tbody tr th {\n",
       "        vertical-align: top;\n",
       "    }\n",
       "\n",
       "    .dataframe thead th {\n",
       "        text-align: right;\n",
       "    }\n",
       "</style>\n",
       "<table border=\"1\" class=\"dataframe\">\n",
       "  <thead>\n",
       "    <tr style=\"text-align: right;\">\n",
       "      <th></th>\n",
       "      <th>Name</th>\n",
       "      <th>ROC_AUC_Train</th>\n",
       "      <th>ROC_AUC_Test</th>\n",
       "      <th>F1_score</th>\n",
       "      <th>Execution_Time</th>\n",
       "    </tr>\n",
       "  </thead>\n",
       "  <tbody>\n",
       "    <tr>\n",
       "      <th>0</th>\n",
       "      <td>Logistic Regression</td>\n",
       "      <td>0.283023</td>\n",
       "      <td>0.279770</td>\n",
       "      <td>0.045377</td>\n",
       "      <td>0.598655</td>\n",
       "    </tr>\n",
       "    <tr>\n",
       "      <th>1</th>\n",
       "      <td>Random Forest</td>\n",
       "      <td>0.907676</td>\n",
       "      <td>0.886820</td>\n",
       "      <td>0.786525</td>\n",
       "      <td>2.190745</td>\n",
       "    </tr>\n",
       "    <tr>\n",
       "      <th>2</th>\n",
       "      <td>Gradient Boosting</td>\n",
       "      <td>0.896639</td>\n",
       "      <td>0.896887</td>\n",
       "      <td>0.794451</td>\n",
       "      <td>22.094392</td>\n",
       "    </tr>\n",
       "    <tr>\n",
       "      <th>3</th>\n",
       "      <td>LightGBM</td>\n",
       "      <td>0.898665</td>\n",
       "      <td>0.898495</td>\n",
       "      <td>0.794443</td>\n",
       "      <td>3.661304</td>\n",
       "    </tr>\n",
       "  </tbody>\n",
       "</table>\n",
       "</div>"
      ],
      "text/plain": [
       "                  Name  ROC_AUC_Train  ROC_AUC_Test  F1_score  Execution_Time\n",
       "0  Logistic Regression       0.283023      0.279770  0.045377        0.598655\n",
       "1        Random Forest       0.907676      0.886820  0.786525        2.190745\n",
       "2    Gradient Boosting       0.896639      0.896887  0.794451       22.094392\n",
       "3             LightGBM       0.898665      0.898495  0.794443        3.661304"
      ]
     },
     "execution_count": 17,
     "metadata": {},
     "output_type": "execute_result"
    }
   ],
   "source": [
    "models1=[]\n",
    "models1.append(('Logistic Regression', LogisticRegression(random_state=42)))\n",
    "models1.append(('Random Forest', RandomForestClassifier(random_state=42)))\n",
    "models1.append(('Gradient Boosting', GradientBoostingClassifier(random_state=42)))\n",
    "models1.append(('LightGBM',lgb.LGBMClassifier(random_state=42)))\n",
    "\n",
    "from warnings import simplefilter\n",
    "# ignore all future warnings\n",
    "simplefilter(action='ignore', category=FutureWarning)\n",
    "\n",
    "names = []\n",
    "scores_test = []\n",
    "scores_train = []\n",
    "AUC1=[]\n",
    "Log_loss=[]\n",
    "F1_Score=[]\n",
    "Time=[]\n",
    "AUC=[]\n",
    "for name, model in tqdm(models1):\n",
    "    start=time.time()\n",
    "    #Fitting the model\n",
    "    model.fit(X_train, y_train)\n",
    "    end=time.time()\n",
    "    #Training time\n",
    "    Time.append(end-start)\n",
    "    y_pred = model.predict(X_test)\n",
    "    y_pred_prob=model.predict_proba(X_test)[:, 1]\n",
    "    scores_test.append(accuracy_score(y_test, y_pred))\n",
    "    scores_train.append(accuracy_score(y_train, model.predict(X_train)))\n",
    "    AUC1.append(roc_auc_score(y_test, y_pred_prob))\n",
    "    AUC.append(roc_auc_score(y_train, model.predict_proba(X_train)[:, 1]))\n",
    "    names.append(name)\n",
    "    #F1_Score\n",
    "    F1_Score.append(f1_score(y_test, y_pred))#, average=None)  \n",
    "Result1 = pd.DataFrame({'Name': names, \n",
    "                        'ROC_AUC_Train':AUC,'ROC_AUC_Test':AUC1,'F1_score':F1_Score,'Execution_Time':Time})\n",
    "Result1"
   ]
  },
  {
   "cell_type": "markdown",
   "metadata": {},
   "source": [
    "#### LightGBM is the fastest with the highest F1-score and AUC. I pick LGB to train the model with the whole train dataset. The model may improve by hyper tuning by grid search or random search. AlsoThe data is imbalance, so maybe undersampling or oversampling with SMOTE improve the performance. However, due to the time limit, I stick with what I have got so far.  \n",
    "\n"
   ]
  },
  {
   "cell_type": "code",
   "execution_count": 18,
   "metadata": {},
   "outputs": [
    {
     "data": {
      "text/plain": [
       "LGBMClassifier(boosting_type='gbdt', class_weight=None, colsample_bytree=1.0,\n",
       "        importance_type='split', learning_rate=0.1, max_depth=-1,\n",
       "        min_child_samples=20, min_child_weight=0.001, min_split_gain=0.0,\n",
       "        n_estimators=100, n_jobs=-1, num_leaves=31, objective=None,\n",
       "        random_state=42, reg_alpha=0.0, reg_lambda=0.0, silent=True,\n",
       "        subsample=1.0, subsample_for_bin=200000, subsample_freq=0)"
      ]
     },
     "execution_count": 18,
     "metadata": {},
     "output_type": "execute_result"
    }
   ],
   "source": [
    "model=lgb.LGBMClassifier(random_state=42)\n",
    "model.fit(X,y)"
   ]
  },
  {
   "cell_type": "markdown",
   "metadata": {},
   "source": [
    "### Feature Importance"
   ]
  },
  {
   "cell_type": "code",
   "execution_count": 19,
   "metadata": {},
   "outputs": [
    {
     "data": {
      "text/html": [
       "<div>\n",
       "<style scoped>\n",
       "    .dataframe tbody tr th:only-of-type {\n",
       "        vertical-align: middle;\n",
       "    }\n",
       "\n",
       "    .dataframe tbody tr th {\n",
       "        vertical-align: top;\n",
       "    }\n",
       "\n",
       "    .dataframe thead th {\n",
       "        text-align: right;\n",
       "    }\n",
       "</style>\n",
       "<table border=\"1\" class=\"dataframe\">\n",
       "  <thead>\n",
       "    <tr style=\"text-align: right;\">\n",
       "      <th></th>\n",
       "      <th>feature_importance</th>\n",
       "    </tr>\n",
       "  </thead>\n",
       "  <tbody>\n",
       "    <tr>\n",
       "      <th>EmailOpen</th>\n",
       "      <td>0.644950</td>\n",
       "    </tr>\n",
       "    <tr>\n",
       "      <th>FormSubmit</th>\n",
       "      <td>0.211754</td>\n",
       "    </tr>\n",
       "    <tr>\n",
       "      <th>EmailClickthrough</th>\n",
       "      <td>0.092204</td>\n",
       "    </tr>\n",
       "    <tr>\n",
       "      <th>PageView</th>\n",
       "      <td>0.051093</td>\n",
       "    </tr>\n",
       "  </tbody>\n",
       "</table>\n",
       "</div>"
      ],
      "text/plain": [
       "                   feature_importance\n",
       "EmailOpen                    0.644950\n",
       "FormSubmit                   0.211754\n",
       "EmailClickthrough            0.092204\n",
       "PageView                     0.051093"
      ]
     },
     "execution_count": 19,
     "metadata": {},
     "output_type": "execute_result"
    }
   ],
   "source": [
    "X=X_train.append(X_test)\n",
    "y=y_train.append(y_test)\n",
    "clf = RandomForestClassifier(random_state=0)\n",
    "clf.fit(X_train, y_train)\n",
    "\n",
    "# Find feature importances\n",
    "features = pd.Series(clf.feature_importances_, index=X_train.columns)\n",
    "# Find feature importances\n",
    "feature_importance = pd.DataFrame(clf.feature_importances_).T\n",
    "feature_importance.columns = list(X_train.columns)\n",
    "feature_importance = feature_importance.T\n",
    "feature_importance.columns = ['feature_importance']\n",
    "feature_importance.sort_values('feature_importance', ascending=False)"
   ]
  },
  {
   "cell_type": "markdown",
   "metadata": {},
   "source": [
    "#### The most important feature is the 'EmailOpen'. So this feature has an important role in predicting if the user will purchase in future or not.\n",
    "#### The second most important feature is the 'FormSubmit'."
   ]
  },
  {
   "cell_type": "markdown",
   "metadata": {},
   "source": [
    "### Testing"
   ]
  },
  {
   "cell_type": "code",
   "execution_count": 20,
   "metadata": {},
   "outputs": [
    {
     "data": {
      "text/html": [
       "<div>\n",
       "<style scoped>\n",
       "    .dataframe tbody tr th:only-of-type {\n",
       "        vertical-align: middle;\n",
       "    }\n",
       "\n",
       "    .dataframe tbody tr th {\n",
       "        vertical-align: top;\n",
       "    }\n",
       "\n",
       "    .dataframe thead th {\n",
       "        text-align: right;\n",
       "    }\n",
       "</style>\n",
       "<table border=\"1\" class=\"dataframe\">\n",
       "  <thead>\n",
       "    <tr style=\"text-align: right;\">\n",
       "      <th></th>\n",
       "      <th>user_id</th>\n",
       "      <th>activity_date</th>\n",
       "      <th>activity_type</th>\n",
       "    </tr>\n",
       "  </thead>\n",
       "  <tbody>\n",
       "    <tr>\n",
       "      <th>0</th>\n",
       "      <td>0000ecf58c94668</td>\n",
       "      <td>2015-06-11</td>\n",
       "      <td>EmailOpen</td>\n",
       "    </tr>\n",
       "    <tr>\n",
       "      <th>1</th>\n",
       "      <td>0000ecf58c94668</td>\n",
       "      <td>2015-06-29</td>\n",
       "      <td>EmailOpen</td>\n",
       "    </tr>\n",
       "    <tr>\n",
       "      <th>2</th>\n",
       "      <td>0000ecf58c94668</td>\n",
       "      <td>2015-07-05</td>\n",
       "      <td>EmailOpen</td>\n",
       "    </tr>\n",
       "    <tr>\n",
       "      <th>3</th>\n",
       "      <td>0000ecf58c94668</td>\n",
       "      <td>2015-07-29</td>\n",
       "      <td>EmailOpen</td>\n",
       "    </tr>\n",
       "    <tr>\n",
       "      <th>4</th>\n",
       "      <td>000132f21724ee2</td>\n",
       "      <td>2015-05-15</td>\n",
       "      <td>EmailClickthrough</td>\n",
       "    </tr>\n",
       "  </tbody>\n",
       "</table>\n",
       "</div>"
      ],
      "text/plain": [
       "           user_id activity_date      activity_type\n",
       "0  0000ecf58c94668    2015-06-11          EmailOpen\n",
       "1  0000ecf58c94668    2015-06-29          EmailOpen\n",
       "2  0000ecf58c94668    2015-07-05          EmailOpen\n",
       "3  0000ecf58c94668    2015-07-29          EmailOpen\n",
       "4  000132f21724ee2    2015-05-15  EmailClickthrough"
      ]
     },
     "execution_count": 20,
     "metadata": {},
     "output_type": "execute_result"
    }
   ],
   "source": [
    "test.head()"
   ]
  },
  {
   "cell_type": "code",
   "execution_count": 21,
   "metadata": {},
   "outputs": [
    {
     "data": {
      "text/html": [
       "<div>\n",
       "<style scoped>\n",
       "    .dataframe tbody tr th:only-of-type {\n",
       "        vertical-align: middle;\n",
       "    }\n",
       "\n",
       "    .dataframe tbody tr th {\n",
       "        vertical-align: top;\n",
       "    }\n",
       "\n",
       "    .dataframe thead th {\n",
       "        text-align: right;\n",
       "    }\n",
       "</style>\n",
       "<table border=\"1\" class=\"dataframe\">\n",
       "  <thead>\n",
       "    <tr style=\"text-align: right;\">\n",
       "      <th>activity_type</th>\n",
       "      <th>EmailClickthrough</th>\n",
       "      <th>EmailOpen</th>\n",
       "      <th>FormSubmit</th>\n",
       "      <th>PageView</th>\n",
       "      <th>WebVisit</th>\n",
       "    </tr>\n",
       "    <tr>\n",
       "      <th>user_id</th>\n",
       "      <th></th>\n",
       "      <th></th>\n",
       "      <th></th>\n",
       "      <th></th>\n",
       "      <th></th>\n",
       "    </tr>\n",
       "  </thead>\n",
       "  <tbody>\n",
       "    <tr>\n",
       "      <th>0000ecf58c94668</th>\n",
       "      <td>0</td>\n",
       "      <td>4</td>\n",
       "      <td>0</td>\n",
       "      <td>0</td>\n",
       "      <td>0</td>\n",
       "    </tr>\n",
       "    <tr>\n",
       "      <th>000132f21724ee2</th>\n",
       "      <td>1</td>\n",
       "      <td>1</td>\n",
       "      <td>0</td>\n",
       "      <td>0</td>\n",
       "      <td>0</td>\n",
       "    </tr>\n",
       "    <tr>\n",
       "      <th>0001b315b991cf0</th>\n",
       "      <td>0</td>\n",
       "      <td>3</td>\n",
       "      <td>0</td>\n",
       "      <td>0</td>\n",
       "      <td>0</td>\n",
       "    </tr>\n",
       "    <tr>\n",
       "      <th>000269150971d08</th>\n",
       "      <td>0</td>\n",
       "      <td>4</td>\n",
       "      <td>0</td>\n",
       "      <td>0</td>\n",
       "      <td>0</td>\n",
       "    </tr>\n",
       "    <tr>\n",
       "      <th>000297ba4fa5026</th>\n",
       "      <td>0</td>\n",
       "      <td>3</td>\n",
       "      <td>0</td>\n",
       "      <td>0</td>\n",
       "      <td>0</td>\n",
       "    </tr>\n",
       "  </tbody>\n",
       "</table>\n",
       "</div>"
      ],
      "text/plain": [
       "activity_type    EmailClickthrough  EmailOpen  FormSubmit  PageView  WebVisit\n",
       "user_id                                                                      \n",
       "0000ecf58c94668                  0          4           0         0         0\n",
       "000132f21724ee2                  1          1           0         0         0\n",
       "0001b315b991cf0                  0          3           0         0         0\n",
       "000269150971d08                  0          4           0         0         0\n",
       "000297ba4fa5026                  0          3           0         0         0"
      ]
     },
     "execution_count": 21,
     "metadata": {},
     "output_type": "execute_result"
    }
   ],
   "source": [
    "test1=pd.pivot_table(test.groupby(by=['user_id','activity_type']).count(),index='user_id',columns='activity_type',values='activity_date',fill_value=0)\n",
    "test1.head()"
   ]
  },
  {
   "cell_type": "code",
   "execution_count": 22,
   "metadata": {},
   "outputs": [
    {
     "data": {
      "text/html": [
       "<div>\n",
       "<style scoped>\n",
       "    .dataframe tbody tr th:only-of-type {\n",
       "        vertical-align: middle;\n",
       "    }\n",
       "\n",
       "    .dataframe tbody tr th {\n",
       "        vertical-align: top;\n",
       "    }\n",
       "\n",
       "    .dataframe thead th {\n",
       "        text-align: right;\n",
       "    }\n",
       "</style>\n",
       "<table border=\"1\" class=\"dataframe\">\n",
       "  <thead>\n",
       "    <tr style=\"text-align: right;\">\n",
       "      <th>activity_type</th>\n",
       "      <th>EmailClickthrough</th>\n",
       "      <th>EmailOpen</th>\n",
       "      <th>FormSubmit</th>\n",
       "      <th>PageView</th>\n",
       "      <th>WebVisit</th>\n",
       "    </tr>\n",
       "    <tr>\n",
       "      <th>activity_type</th>\n",
       "      <th></th>\n",
       "      <th></th>\n",
       "      <th></th>\n",
       "      <th></th>\n",
       "      <th></th>\n",
       "    </tr>\n",
       "  </thead>\n",
       "  <tbody>\n",
       "    <tr>\n",
       "      <th>EmailClickthrough</th>\n",
       "      <td>1.000000</td>\n",
       "      <td>0.585482</td>\n",
       "      <td>0.692476</td>\n",
       "      <td>0.709560</td>\n",
       "      <td>0.708623</td>\n",
       "    </tr>\n",
       "    <tr>\n",
       "      <th>EmailOpen</th>\n",
       "      <td>0.585482</td>\n",
       "      <td>1.000000</td>\n",
       "      <td>0.443457</td>\n",
       "      <td>0.521143</td>\n",
       "      <td>0.519350</td>\n",
       "    </tr>\n",
       "    <tr>\n",
       "      <th>FormSubmit</th>\n",
       "      <td>0.692476</td>\n",
       "      <td>0.443457</td>\n",
       "      <td>1.000000</td>\n",
       "      <td>0.623081</td>\n",
       "      <td>0.645458</td>\n",
       "    </tr>\n",
       "    <tr>\n",
       "      <th>PageView</th>\n",
       "      <td>0.709560</td>\n",
       "      <td>0.521143</td>\n",
       "      <td>0.623081</td>\n",
       "      <td>1.000000</td>\n",
       "      <td>0.997029</td>\n",
       "    </tr>\n",
       "    <tr>\n",
       "      <th>WebVisit</th>\n",
       "      <td>0.708623</td>\n",
       "      <td>0.519350</td>\n",
       "      <td>0.645458</td>\n",
       "      <td>0.997029</td>\n",
       "      <td>1.000000</td>\n",
       "    </tr>\n",
       "  </tbody>\n",
       "</table>\n",
       "</div>"
      ],
      "text/plain": [
       "activity_type      EmailClickthrough  EmailOpen  FormSubmit  PageView  \\\n",
       "activity_type                                                           \n",
       "EmailClickthrough           1.000000   0.585482    0.692476  0.709560   \n",
       "EmailOpen                   0.585482   1.000000    0.443457  0.521143   \n",
       "FormSubmit                  0.692476   0.443457    1.000000  0.623081   \n",
       "PageView                    0.709560   0.521143    0.623081  1.000000   \n",
       "WebVisit                    0.708623   0.519350    0.645458  0.997029   \n",
       "\n",
       "activity_type      WebVisit  \n",
       "activity_type                \n",
       "EmailClickthrough  0.708623  \n",
       "EmailOpen          0.519350  \n",
       "FormSubmit         0.645458  \n",
       "PageView           0.997029  \n",
       "WebVisit           1.000000  "
      ]
     },
     "execution_count": 22,
     "metadata": {},
     "output_type": "execute_result"
    }
   ],
   "source": [
    "test1.corr()"
   ]
  },
  {
   "cell_type": "code",
   "execution_count": 23,
   "metadata": {},
   "outputs": [],
   "source": [
    "del test1['WebVisit']"
   ]
  },
  {
   "cell_type": "markdown",
   "metadata": {},
   "source": [
    "#### Sort the user_ids base on the output probability"
   ]
  },
  {
   "cell_type": "code",
   "execution_count": 24,
   "metadata": {},
   "outputs": [
    {
     "data": {
      "text/plain": [
       "user_id\n",
       "2c2c4af11b62946    0.999593\n",
       "d6a142cf06f209a    0.999593\n",
       "7c21520dc24c16f    0.916548\n",
       "904a3da97a91f9b    0.887008\n",
       "921dabe84d0c995    0.884402\n",
       "Name: y_test_prob, dtype: float64"
      ]
     },
     "execution_count": 24,
     "metadata": {},
     "output_type": "execute_result"
    }
   ],
   "source": [
    "y_pred = model.predict(test1)\n",
    "y_pred_prob=model.predict_proba(test1)[:, 1]\n",
    "test1['y_test_prob']=y_pred_prob\n",
    "Final=test1.sort_values(by='y_test_prob',ascending=False)['y_test_prob'].head(1000)\n",
    "Final.head()"
   ]
  },
  {
   "cell_type": "code",
   "execution_count": 25,
   "metadata": {},
   "outputs": [],
   "source": [
    "Final.to_csv('Final.csv',  header=True)"
   ]
  },
  {
   "cell_type": "markdown",
   "metadata": {},
   "source": [
    "#### Answers:\n",
    "\n",
    "- (1) Describe which activity types you believe are most useful in predicting which user will purchase in the future.\n",
    "\n",
    "#### The most important feature is the 'EmailOpen'. So this feature has an important role in predicting if the user will purchase in future or not.The second most important feature is the 'FormSubmit'.\n",
    "- (2) Provide a file (csv, tsv, or similar) containing the 1000 user_id's most likely to convert.\n",
    "\n",
    "#### Please find the Final.csv file attached.\n",
    "- (3) Any work used to generate the list and/or notes you'd like to include.\n",
    "\n",
    "#### This ipython is my work."
   ]
  }
 ],
 "metadata": {
  "kernelspec": {
   "display_name": "Python 3",
   "language": "python",
   "name": "python3"
  },
  "language_info": {
   "codemirror_mode": {
    "name": "ipython",
    "version": 3
   },
   "file_extension": ".py",
   "mimetype": "text/x-python",
   "name": "python",
   "nbconvert_exporter": "python",
   "pygments_lexer": "ipython3",
   "version": "3.6.5"
  }
 },
 "nbformat": 4,
 "nbformat_minor": 2
}
